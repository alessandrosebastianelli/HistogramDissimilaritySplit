{
 "cells": [
  {
   "cell_type": "code",
   "execution_count": 15,
   "id": "50da3137-c7aa-4b36-912d-cb9feb8cd6f0",
   "metadata": {},
   "outputs": [
    {
     "name": "stdout",
     "output_type": "stream",
     "text": [
      "The autoreload extension is already loaded. To reload it, use:\n",
      "  %reload_ext autoreload\n"
     ]
    }
   ],
   "source": [
    "%load_ext autoreload\n",
    "%autoreload 2"
   ]
  },
  {
   "cell_type": "markdown",
   "id": "cb28a947-01e7-4816-83c7-802091f0ef38",
   "metadata": {},
   "source": [
    "# Dataset split procedure based on cumulative histogram dissimilarity"
   ]
  },
  {
   "cell_type": "code",
   "execution_count": 16,
   "id": "3d481e69-6a32-43e0-ba6c-d8cfc0f1415e",
   "metadata": {},
   "outputs": [],
   "source": [
    "from chdSplit import chdSplit\n",
    "import numpy as np"
   ]
  },
  {
   "cell_type": "markdown",
   "id": "33c0abdc-502d-497b-a8d1-ff0b7224c03a",
   "metadata": {},
   "source": [
    "## Load paths"
   ]
  },
  {
   "cell_type": "code",
   "execution_count": 17,
   "id": "f13e8400-97cb-4adb-ab73-d4a0b64a24d3",
   "metadata": {},
   "outputs": [],
   "source": [
    "import glob\n",
    "import os\n",
    "\n",
    "root = os.path.join('datasets', 'volcanic_eruptions')\n",
    "\n",
    "eruption_paths = glob.glob(os.path.join(os.path.join(root, 'eruption'),'*'))\n",
    "no_eruption_paths = glob.glob(os.path.join(os.path.join(root, 'no_eruption'),'*'))"
   ]
  },
  {
   "cell_type": "code",
   "execution_count": 18,
   "id": "4bd066e4-b25d-45e9-a581-295a00fac703",
   "metadata": {},
   "outputs": [],
   "source": [
    "SPLIT_SIZE = 0.2\n",
    "BINS = 50\n",
    "ITERATIONS = 30"
   ]
  },
  {
   "cell_type": "code",
   "execution_count": 19,
   "id": "618355fd-f91f-4ed5-ba3f-03ce15dac21d",
   "metadata": {
    "tags": []
   },
   "outputs": [
    {
     "name": "stderr",
     "output_type": "stream",
     "text": [
      "100%|██████████████████████████████████████████████████████████████████████████████████| 30/30 [01:22<00:00,  2.74s/it]\n"
     ]
    }
   ],
   "source": [
    "splitter = chdSplit(eruption_paths, split_size = SPLIT_SIZE, iterations = ITERATIONS, bins = BINS)\n",
    "results, train_eruptions, validation_eruptions = splitter.split()"
   ]
  },
  {
   "cell_type": "code",
   "execution_count": 20,
   "id": "c1d45877-1110-4291-8144-3d811181ff78",
   "metadata": {},
   "outputs": [
    {
     "name": "stderr",
     "output_type": "stream",
     "text": [
      "100%|██████████████████████████████████████████████████████████████████████████████████| 30/30 [05:23<00:00, 10.77s/it]\n"
     ]
    }
   ],
   "source": [
    "splitter = chdSplit(no_eruption_paths, split_size = SPLIT_SIZE, iterations = ITERATIONS, bins = BINS)\n",
    "results2, train_no_eruptions, validation_no_eruptions = splitter.split()"
   ]
  },
  {
   "cell_type": "code",
   "execution_count": 21,
   "id": "e5bfa660-c033-4e43-bfa5-b1b4805f43ce",
   "metadata": {},
   "outputs": [
    {
     "name": "stdout",
     "output_type": "stream",
     "text": [
      "326 728\n",
      "81 182\n"
     ]
    }
   ],
   "source": [
    "print(len(train_eruptions), len(train_no_eruptions))\n",
    "print(len(validation_eruptions), len(validation_no_eruptions))"
   ]
  },
  {
   "cell_type": "code",
   "execution_count": 22,
   "id": "389cdc56-ffb3-40ad-b44b-94ee1da79635",
   "metadata": {},
   "outputs": [],
   "source": [
    "train_paths = np.concatenate((train_eruptions, train_no_eruptions))\n",
    "val_paths = np.concatenate((validation_eruptions, validation_no_eruptions))"
   ]
  },
  {
   "cell_type": "code",
   "execution_count": 23,
   "id": "1c79f303-984a-45c2-bcce-62eba7ad8fb9",
   "metadata": {},
   "outputs": [
    {
     "name": "stdout",
     "output_type": "stream",
     "text": [
      "1054 263\n"
     ]
    }
   ],
   "source": [
    "print(len(train_paths), len(val_paths))"
   ]
  },
  {
   "cell_type": "markdown",
   "id": "1f4cab36-2f1a-4a84-bece-c8dde448f375",
   "metadata": {},
   "source": [
    "## Create CNN model"
   ]
  },
  {
   "cell_type": "code",
   "execution_count": 24,
   "id": "08f329e5-ffa7-4fd4-a018-ca8047a2820f",
   "metadata": {},
   "outputs": [
    {
     "name": "stderr",
     "output_type": "stream",
     "text": [
      "C:\\Users\\aless\\anaconda3\\envs\\tf\\lib\\site-packages\\keras\\optimizer_v2\\rmsprop.py:130: UserWarning: The `lr` argument is deprecated, use `learning_rate` instead.\n",
      "  super(RMSprop, self).__init__(name, **kwargs)\n"
     ]
    }
   ],
   "source": [
    "from cnnModel import cnnModel\n",
    "model = cnnModel('chdSplit', train_paths, val_paths)"
   ]
  },
  {
   "cell_type": "markdown",
   "id": "19a09d7e-e2a1-4372-a911-bfc3a40c12a0",
   "metadata": {},
   "source": [
    "Train the model"
   ]
  },
  {
   "cell_type": "code",
   "execution_count": 29,
   "id": "209d6dd0-8ff3-49ee-b230-6d6171aa2909",
   "metadata": {},
   "outputs": [
    {
     "name": "stdout",
     "output_type": "stream",
     "text": [
      "Epoch 1/100\n",
      "65/65 [==============================] - 18s 287ms/step - loss: 0.3250 - accuracy: 0.8625 - val_loss: 0.3273 - val_accuracy: 0.8711\n",
      "Epoch 2/100\n",
      "65/65 [==============================] - 19s 294ms/step - loss: 0.3008 - accuracy: 0.8663 - val_loss: 0.3312 - val_accuracy: 0.8711\n",
      "Epoch 3/100\n",
      "65/65 [==============================] - 19s 293ms/step - loss: 0.3066 - accuracy: 0.8587 - val_loss: 0.2910 - val_accuracy: 0.8984\n",
      "Epoch 4/100\n",
      "65/65 [==============================] - 18s 286ms/step - loss: 0.2791 - accuracy: 0.8750 - val_loss: 0.3562 - val_accuracy: 0.8477\n",
      "Epoch 5/100\n",
      "65/65 [==============================] - 19s 291ms/step - loss: 0.3050 - accuracy: 0.8712 - val_loss: 0.3177 - val_accuracy: 0.8906\n",
      "Epoch 6/100\n",
      "65/65 [==============================] - 19s 289ms/step - loss: 0.3195 - accuracy: 0.8510 - val_loss: 0.2729 - val_accuracy: 0.8828\n",
      "Epoch 7/100\n",
      "65/65 [==============================] - 19s 289ms/step - loss: 0.2951 - accuracy: 0.8740 - val_loss: 0.3486 - val_accuracy: 0.8359\n",
      "Epoch 8/100\n",
      "65/65 [==============================] - 19s 291ms/step - loss: 0.3027 - accuracy: 0.8731 - val_loss: 0.2926 - val_accuracy: 0.8711\n",
      "Epoch 9/100\n",
      "65/65 [==============================] - 18s 288ms/step - loss: 0.2986 - accuracy: 0.8702 - val_loss: 0.2947 - val_accuracy: 0.8867\n",
      "Epoch 10/100\n",
      "65/65 [==============================] - 19s 292ms/step - loss: 0.3126 - accuracy: 0.8510 - val_loss: 0.2651 - val_accuracy: 0.8750\n",
      "Epoch 11/100\n",
      "65/65 [==============================] - 19s 297ms/step - loss: 0.2892 - accuracy: 0.8615 - val_loss: 0.3173 - val_accuracy: 0.8633\n",
      "Epoch 12/100\n",
      "65/65 [==============================] - 19s 292ms/step - loss: 0.2866 - accuracy: 0.8750 - val_loss: 0.3427 - val_accuracy: 0.8633\n",
      "Epoch 13/100\n",
      "65/65 [==============================] - 18s 288ms/step - loss: 0.2795 - accuracy: 0.8683 - val_loss: 0.3392 - val_accuracy: 0.8438\n",
      "Epoch 14/100\n",
      "65/65 [==============================] - 19s 289ms/step - loss: 0.2592 - accuracy: 0.8817 - val_loss: 0.2685 - val_accuracy: 0.9062\n",
      "Epoch 15/100\n",
      "65/65 [==============================] - 19s 293ms/step - loss: 0.2813 - accuracy: 0.8673 - val_loss: 0.3247 - val_accuracy: 0.8750\n",
      "Epoch 16/100\n",
      "65/65 [==============================] - 19s 296ms/step - loss: 0.2734 - accuracy: 0.8740 - val_loss: 0.3286 - val_accuracy: 0.8672\n",
      "Epoch 17/100\n",
      "65/65 [==============================] - 19s 297ms/step - loss: 0.2827 - accuracy: 0.8683 - val_loss: 0.2976 - val_accuracy: 0.8867\n",
      "Epoch 18/100\n",
      "65/65 [==============================] - 19s 297ms/step - loss: 0.2789 - accuracy: 0.8837 - val_loss: 0.2978 - val_accuracy: 0.8867\n",
      "Epoch 19/100\n",
      "65/65 [==============================] - 19s 296ms/step - loss: 0.2788 - accuracy: 0.8788 - val_loss: 0.2936 - val_accuracy: 0.8438\n",
      "Epoch 20/100\n",
      "65/65 [==============================] - 19s 295ms/step - loss: 0.2694 - accuracy: 0.8933 - val_loss: 0.2802 - val_accuracy: 0.9023\n",
      "Epoch 21/100\n",
      "65/65 [==============================] - 19s 298ms/step - loss: 0.2642 - accuracy: 0.8788 - val_loss: 0.3085 - val_accuracy: 0.8906\n",
      "Epoch 22/100\n",
      "65/65 [==============================] - 19s 298ms/step - loss: 0.2671 - accuracy: 0.8923 - val_loss: 0.3498 - val_accuracy: 0.8594\n",
      "Epoch 23/100\n",
      "65/65 [==============================] - 19s 296ms/step - loss: 0.3055 - accuracy: 0.8692 - val_loss: 0.2970 - val_accuracy: 0.8711\n",
      "Epoch 24/100\n",
      "65/65 [==============================] - 18s 286ms/step - loss: 0.2496 - accuracy: 0.8856 - val_loss: 0.3430 - val_accuracy: 0.8438\n",
      "Epoch 25/100\n",
      "65/65 [==============================] - 18s 287ms/step - loss: 0.2469 - accuracy: 0.8904 - val_loss: 0.3065 - val_accuracy: 0.8984\n",
      "Epoch 26/100\n",
      "65/65 [==============================] - 18s 288ms/step - loss: 0.2605 - accuracy: 0.8865 - val_loss: 0.2314 - val_accuracy: 0.8750\n",
      "Epoch 27/100\n",
      "65/65 [==============================] - 19s 298ms/step - loss: 0.2662 - accuracy: 0.8837 - val_loss: 0.3246 - val_accuracy: 0.8711\n",
      "Epoch 28/100\n",
      "65/65 [==============================] - 19s 303ms/step - loss: 0.2709 - accuracy: 0.8856 - val_loss: 0.3072 - val_accuracy: 0.8945\n",
      "Epoch 29/100\n",
      "65/65 [==============================] - 33s 523ms/step - loss: 0.2455 - accuracy: 0.8990 - val_loss: 0.3152 - val_accuracy: 0.8789\n",
      "Epoch 30/100\n",
      "65/65 [==============================] - 19s 293ms/step - loss: 0.2603 - accuracy: 0.8750 - val_loss: 0.3366 - val_accuracy: 0.8359\n",
      "Epoch 31/100\n",
      "65/65 [==============================] - 18s 287ms/step - loss: 0.2594 - accuracy: 0.8837 - val_loss: 0.3024 - val_accuracy: 0.8438\n",
      "Epoch 32/100\n",
      "65/65 [==============================] - 18s 289ms/step - loss: 0.2413 - accuracy: 0.8971 - val_loss: 0.2767 - val_accuracy: 0.8984\n",
      "Epoch 33/100\n",
      "65/65 [==============================] - 19s 290ms/step - loss: 0.2333 - accuracy: 0.8962 - val_loss: 0.3507 - val_accuracy: 0.8359\n",
      "Epoch 34/100\n",
      "65/65 [==============================] - 19s 297ms/step - loss: 0.2526 - accuracy: 0.8962 - val_loss: 0.2526 - val_accuracy: 0.9102\n",
      "Epoch 35/100\n",
      "65/65 [==============================] - 19s 299ms/step - loss: 0.2419 - accuracy: 0.9096 - val_loss: 0.2681 - val_accuracy: 0.8711\n",
      "Epoch 36/100\n",
      "65/65 [==============================] - 19s 295ms/step - loss: 0.2394 - accuracy: 0.8962 - val_loss: 0.2756 - val_accuracy: 0.9141\n",
      "Epoch 37/100\n",
      "65/65 [==============================] - 18s 284ms/step - loss: 0.2571 - accuracy: 0.8942 - val_loss: 0.2692 - val_accuracy: 0.8984\n",
      "Epoch 38/100\n",
      "65/65 [==============================] - 18s 287ms/step - loss: 0.2423 - accuracy: 0.8923 - val_loss: 0.2938 - val_accuracy: 0.8711\n",
      "Epoch 39/100\n",
      "65/65 [==============================] - 18s 288ms/step - loss: 0.2498 - accuracy: 0.9010 - val_loss: 0.2527 - val_accuracy: 0.9102\n",
      "Epoch 40/100\n",
      "65/65 [==============================] - 19s 289ms/step - loss: 0.2467 - accuracy: 0.8952 - val_loss: 0.2960 - val_accuracy: 0.8984\n",
      "Epoch 41/100\n",
      "65/65 [==============================] - 19s 289ms/step - loss: 0.2316 - accuracy: 0.9038 - val_loss: 0.2705 - val_accuracy: 0.8789\n",
      "Epoch 42/100\n",
      "65/65 [==============================] - 18s 286ms/step - loss: 0.2446 - accuracy: 0.8990 - val_loss: 0.2917 - val_accuracy: 0.8828\n",
      "Epoch 43/100\n",
      "65/65 [==============================] - 18s 287ms/step - loss: 0.2473 - accuracy: 0.8865 - val_loss: 0.2937 - val_accuracy: 0.8828\n",
      "Epoch 44/100\n",
      "65/65 [==============================] - 18s 288ms/step - loss: 0.2375 - accuracy: 0.8923 - val_loss: 0.2533 - val_accuracy: 0.9023\n",
      "Epoch 45/100\n",
      "65/65 [==============================] - 18s 288ms/step - loss: 0.2520 - accuracy: 0.8846 - val_loss: 0.2537 - val_accuracy: 0.9062\n",
      "Epoch 46/100\n",
      "65/65 [==============================] - 19s 291ms/step - loss: 0.2170 - accuracy: 0.8904 - val_loss: 0.3009 - val_accuracy: 0.8594\n",
      "Training time: 874.7896332740784 seconds\n"
     ]
    }
   ],
   "source": [
    "history = model.train(epochs = 100, batch_size = 16)"
   ]
  },
  {
   "cell_type": "code",
   "execution_count": 30,
   "id": "c93949b2-148a-4acc-b3c8-e01d8512ccbc",
   "metadata": {},
   "outputs": [
    {
     "name": "stderr",
     "output_type": "stream",
     "text": [
      "100%|████████████████████████████████████████████████████████████████████████████████| 263/263 [00:11<00:00, 22.50it/s]\n"
     ]
    }
   ],
   "source": [
    "ground_truths, predictions, confusion_matrix, norm_confusion_matrix = model.test()"
   ]
  },
  {
   "cell_type": "code",
   "execution_count": 31,
   "id": "15a2cbf3-4ef0-42d7-a5f1-ab73f81d1845",
   "metadata": {},
   "outputs": [
    {
     "data": {
      "text/plain": [
       "array([[158,  24],\n",
       "       [  9,  72]], dtype=int64)"
      ]
     },
     "execution_count": 31,
     "metadata": {},
     "output_type": "execute_result"
    }
   ],
   "source": [
    "confusion_matrix"
   ]
  },
  {
   "cell_type": "code",
   "execution_count": 32,
   "id": "1609de74-7622-4fd8-b5de-c2c4acaa5772",
   "metadata": {},
   "outputs": [
    {
     "data": {
      "text/plain": [
       "array([[0.86813187, 0.13186813],\n",
       "       [0.11111111, 0.88888889]])"
      ]
     },
     "execution_count": 32,
     "metadata": {},
     "output_type": "execute_result"
    }
   ],
   "source": [
    "norm_confusion_matrix"
   ]
  },
  {
   "cell_type": "code",
   "execution_count": null,
   "id": "67b2604b-bd9e-4ca2-b928-8fe151ba9f97",
   "metadata": {},
   "outputs": [],
   "source": []
  },
  {
   "cell_type": "code",
   "execution_count": null,
   "id": "f35f3d7f-3db4-45e9-86b4-a517f1243655",
   "metadata": {},
   "outputs": [],
   "source": []
  }
 ],
 "metadata": {
  "kernelspec": {
   "display_name": "tf",
   "language": "python",
   "name": "tf"
  },
  "language_info": {
   "codemirror_mode": {
    "name": "ipython",
    "version": 3
   },
   "file_extension": ".py",
   "mimetype": "text/x-python",
   "name": "python",
   "nbconvert_exporter": "python",
   "pygments_lexer": "ipython3",
   "version": "3.8.0"
  }
 },
 "nbformat": 4,
 "nbformat_minor": 5
}
