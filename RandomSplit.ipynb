{
 "cells": [
  {
   "cell_type": "code",
   "execution_count": 1,
   "id": "50da3137-c7aa-4b36-912d-cb9feb8cd6f0",
   "metadata": {},
   "outputs": [],
   "source": [
    "%load_ext autoreload\n",
    "%autoreload 2"
   ]
  },
  {
   "cell_type": "markdown",
   "id": "cb28a947-01e7-4816-83c7-802091f0ef38",
   "metadata": {},
   "source": [
    "# Dataset Random"
   ]
  },
  {
   "cell_type": "code",
   "execution_count": 2,
   "id": "3d481e69-6a32-43e0-ba6c-d8cfc0f1415e",
   "metadata": {},
   "outputs": [],
   "source": [
    "import numpy as np"
   ]
  },
  {
   "cell_type": "markdown",
   "id": "33c0abdc-502d-497b-a8d1-ff0b7224c03a",
   "metadata": {},
   "source": [
    "## Load paths"
   ]
  },
  {
   "cell_type": "code",
   "execution_count": 3,
   "id": "f13e8400-97cb-4adb-ab73-d4a0b64a24d3",
   "metadata": {},
   "outputs": [],
   "source": [
    "import glob\n",
    "import os\n",
    "\n",
    "root = os.path.join('datasets', 'volcanic_eruptions')\n",
    "\n",
    "eruption_paths = glob.glob(os.path.join(os.path.join(root, 'eruption'),'*'))\n",
    "no_eruption_paths = glob.glob(os.path.join(os.path.join(root, 'no_eruption'),'*'))"
   ]
  },
  {
   "cell_type": "code",
   "execution_count": 4,
   "id": "6cc9c474-7aa0-4f65-8d63-b9a369c2e7ef",
   "metadata": {},
   "outputs": [],
   "source": [
    "paths = np.concatenate((eruption_paths, no_eruption_paths))"
   ]
  },
  {
   "cell_type": "code",
   "execution_count": 5,
   "id": "4bd066e4-b25d-45e9-a581-295a00fac703",
   "metadata": {},
   "outputs": [],
   "source": [
    "SPLIT_SIZE = 0.2"
   ]
  },
  {
   "cell_type": "code",
   "execution_count": 28,
   "id": "ad555dd4-9f4f-4085-b2be-2c75cb100abc",
   "metadata": {},
   "outputs": [],
   "source": [
    "import random\n",
    "def split(paths, SPLIT_SIZE):\n",
    "    random.shuffle(paths)\n",
    "    \n",
    "    val_len = int(len(paths)*SPLIT_SIZE)\n",
    "    train_len = int(len(paths) - val_len)\n",
    "    \n",
    "    print(train_len, val_len)\n",
    "    \n",
    "    return paths[:train_len], paths[train_len:]"
   ]
  },
  {
   "cell_type": "code",
   "execution_count": 29,
   "id": "389cdc56-ffb3-40ad-b44b-94ee1da79635",
   "metadata": {},
   "outputs": [
    {
     "name": "stdout",
     "output_type": "stream",
     "text": [
      "1054 263\n"
     ]
    }
   ],
   "source": [
    "train_paths, val_paths  = split(paths, SPLIT_SIZE)"
   ]
  },
  {
   "cell_type": "markdown",
   "id": "1f4cab36-2f1a-4a84-bece-c8dde448f375",
   "metadata": {},
   "source": [
    "## Create CNN model"
   ]
  },
  {
   "cell_type": "code",
   "execution_count": 32,
   "id": "08f329e5-ffa7-4fd4-a018-ca8047a2820f",
   "metadata": {},
   "outputs": [],
   "source": [
    "from cnnModel import cnnModel\n",
    "model = cnnModel('randomSplit', train_paths, val_paths)"
   ]
  },
  {
   "cell_type": "markdown",
   "id": "19a09d7e-e2a1-4372-a911-bfc3a40c12a0",
   "metadata": {},
   "source": [
    "Train the model"
   ]
  },
  {
   "cell_type": "code",
   "execution_count": 33,
   "id": "209d6dd0-8ff3-49ee-b230-6d6171aa2909",
   "metadata": {},
   "outputs": [
    {
     "name": "stdout",
     "output_type": "stream",
     "text": [
      "Epoch 1/100\n",
      "65/65 [==============================] - 24s 289ms/step - loss: 0.5437 - accuracy: 0.7029 - val_loss: 0.6552 - val_accuracy: 0.6758\n",
      "Epoch 2/100\n",
      "65/65 [==============================] - 18s 280ms/step - loss: 0.4797 - accuracy: 0.7548 - val_loss: 0.6196 - val_accuracy: 0.6719\n",
      "Epoch 3/100\n",
      "65/65 [==============================] - 18s 279ms/step - loss: 0.4620 - accuracy: 0.7635 - val_loss: 0.6424 - val_accuracy: 0.6172\n",
      "Epoch 4/100\n",
      "65/65 [==============================] - 18s 279ms/step - loss: 0.4404 - accuracy: 0.7808 - val_loss: 0.5777 - val_accuracy: 0.6836\n",
      "Epoch 5/100\n",
      "65/65 [==============================] - 18s 280ms/step - loss: 0.4188 - accuracy: 0.7904 - val_loss: 0.5336 - val_accuracy: 0.7344\n",
      "Epoch 6/100\n",
      "65/65 [==============================] - 18s 277ms/step - loss: 0.4211 - accuracy: 0.7865 - val_loss: 0.5305 - val_accuracy: 0.6562\n",
      "Epoch 7/100\n",
      "65/65 [==============================] - 18s 279ms/step - loss: 0.4097 - accuracy: 0.7923 - val_loss: 0.4306 - val_accuracy: 0.7188\n",
      "Epoch 8/100\n",
      "65/65 [==============================] - 18s 280ms/step - loss: 0.3887 - accuracy: 0.8125 - val_loss: 0.3792 - val_accuracy: 0.8516\n",
      "Epoch 9/100\n",
      "65/65 [==============================] - 18s 279ms/step - loss: 0.3963 - accuracy: 0.8019 - val_loss: 0.4091 - val_accuracy: 0.8047\n",
      "Epoch 10/100\n",
      "65/65 [==============================] - 18s 281ms/step - loss: 0.4034 - accuracy: 0.8019 - val_loss: 0.3411 - val_accuracy: 0.8398\n",
      "Epoch 11/100\n",
      "65/65 [==============================] - 18s 280ms/step - loss: 0.4035 - accuracy: 0.7990 - val_loss: 0.3710 - val_accuracy: 0.8008\n",
      "Epoch 12/100\n",
      "65/65 [==============================] - 18s 280ms/step - loss: 0.3978 - accuracy: 0.8192 - val_loss: 0.3441 - val_accuracy: 0.8477\n",
      "Epoch 13/100\n",
      "65/65 [==============================] - 18s 278ms/step - loss: 0.3906 - accuracy: 0.8077 - val_loss: 0.3121 - val_accuracy: 0.8789\n",
      "Epoch 14/100\n",
      "65/65 [==============================] - 18s 280ms/step - loss: 0.3850 - accuracy: 0.8183 - val_loss: 0.3420 - val_accuracy: 0.8555\n",
      "Epoch 15/100\n",
      "65/65 [==============================] - 18s 280ms/step - loss: 0.3598 - accuracy: 0.8163 - val_loss: 0.3174 - val_accuracy: 0.8945\n",
      "Epoch 16/100\n",
      "65/65 [==============================] - 18s 280ms/step - loss: 0.3742 - accuracy: 0.8202 - val_loss: 0.3403 - val_accuracy: 0.8555\n",
      "Epoch 17/100\n",
      "65/65 [==============================] - 18s 280ms/step - loss: 0.3765 - accuracy: 0.8115 - val_loss: 0.3116 - val_accuracy: 0.8438\n",
      "Epoch 18/100\n",
      "65/65 [==============================] - 18s 278ms/step - loss: 0.3737 - accuracy: 0.8202 - val_loss: 0.3105 - val_accuracy: 0.8750\n",
      "Epoch 19/100\n",
      "65/65 [==============================] - 18s 280ms/step - loss: 0.3512 - accuracy: 0.8231 - val_loss: 0.2975 - val_accuracy: 0.8711\n",
      "Epoch 20/100\n",
      "65/65 [==============================] - 18s 280ms/step - loss: 0.3543 - accuracy: 0.8135 - val_loss: 0.2944 - val_accuracy: 0.8906\n",
      "Epoch 21/100\n",
      "65/65 [==============================] - 18s 280ms/step - loss: 0.3410 - accuracy: 0.8423 - val_loss: 0.3019 - val_accuracy: 0.8750\n",
      "Epoch 22/100\n",
      "65/65 [==============================] - 18s 278ms/step - loss: 0.3600 - accuracy: 0.8317 - val_loss: 0.3129 - val_accuracy: 0.8555\n",
      "Epoch 23/100\n",
      "65/65 [==============================] - 18s 281ms/step - loss: 0.3616 - accuracy: 0.8269 - val_loss: 0.3148 - val_accuracy: 0.8633\n",
      "Epoch 24/100\n",
      "65/65 [==============================] - 18s 280ms/step - loss: 0.3496 - accuracy: 0.8231 - val_loss: 0.3177 - val_accuracy: 0.8438\n",
      "Epoch 25/100\n",
      "65/65 [==============================] - 18s 280ms/step - loss: 0.3413 - accuracy: 0.8375 - val_loss: 0.3146 - val_accuracy: 0.8633\n",
      "Epoch 26/100\n",
      "65/65 [==============================] - 18s 280ms/step - loss: 0.3440 - accuracy: 0.8375 - val_loss: 0.3046 - val_accuracy: 0.8867\n",
      "Epoch 27/100\n",
      "65/65 [==============================] - 18s 279ms/step - loss: 0.3469 - accuracy: 0.8317 - val_loss: 0.3266 - val_accuracy: 0.8398\n",
      "Epoch 28/100\n",
      "65/65 [==============================] - 18s 277ms/step - loss: 0.3236 - accuracy: 0.8346 - val_loss: 0.3511 - val_accuracy: 0.8828\n",
      "Epoch 29/100\n",
      "65/65 [==============================] - 18s 277ms/step - loss: 0.3458 - accuracy: 0.8346 - val_loss: 0.3465 - val_accuracy: 0.8438\n",
      "Epoch 30/100\n",
      "65/65 [==============================] - 18s 278ms/step - loss: 0.3399 - accuracy: 0.8385 - val_loss: 0.2812 - val_accuracy: 0.8555\n",
      "Epoch 31/100\n",
      "65/65 [==============================] - 18s 278ms/step - loss: 0.3277 - accuracy: 0.8394 - val_loss: 0.3746 - val_accuracy: 0.8086\n",
      "Epoch 32/100\n",
      "65/65 [==============================] - 18s 277ms/step - loss: 0.3341 - accuracy: 0.8442 - val_loss: 0.3266 - val_accuracy: 0.8359\n",
      "Epoch 33/100\n",
      "65/65 [==============================] - 18s 278ms/step - loss: 0.3383 - accuracy: 0.8337 - val_loss: 0.2994 - val_accuracy: 0.8789\n",
      "Epoch 34/100\n",
      "65/65 [==============================] - 18s 277ms/step - loss: 0.3358 - accuracy: 0.8346 - val_loss: 0.3118 - val_accuracy: 0.8594\n",
      "Epoch 35/100\n",
      "65/65 [==============================] - 18s 277ms/step - loss: 0.3301 - accuracy: 0.8481 - val_loss: 0.2916 - val_accuracy: 0.8789\n",
      "Epoch 36/100\n",
      "65/65 [==============================] - 18s 277ms/step - loss: 0.3313 - accuracy: 0.8356 - val_loss: 0.2828 - val_accuracy: 0.8828\n",
      "Epoch 37/100\n",
      "65/65 [==============================] - 18s 277ms/step - loss: 0.3347 - accuracy: 0.8308 - val_loss: 0.3460 - val_accuracy: 0.8359\n",
      "Epoch 38/100\n",
      "65/65 [==============================] - 18s 278ms/step - loss: 0.3260 - accuracy: 0.8279 - val_loss: 0.2610 - val_accuracy: 0.8828\n",
      "Epoch 39/100\n",
      "65/65 [==============================] - 18s 277ms/step - loss: 0.3238 - accuracy: 0.8462 - val_loss: 0.2770 - val_accuracy: 0.8906\n",
      "Epoch 40/100\n",
      "65/65 [==============================] - 18s 277ms/step - loss: 0.2994 - accuracy: 0.8635 - val_loss: 0.3070 - val_accuracy: 0.9102\n",
      "Epoch 41/100\n",
      "65/65 [==============================] - 18s 282ms/step - loss: 0.3325 - accuracy: 0.8365 - val_loss: 0.2570 - val_accuracy: 0.8945\n",
      "Epoch 42/100\n",
      "65/65 [==============================] - 31s 489ms/step - loss: 0.3305 - accuracy: 0.8404 - val_loss: 0.3127 - val_accuracy: 0.8555\n",
      "Epoch 43/100\n",
      "65/65 [==============================] - 18s 287ms/step - loss: 0.3304 - accuracy: 0.8356 - val_loss: 0.2966 - val_accuracy: 0.8906\n",
      "Epoch 44/100\n",
      "65/65 [==============================] - 18s 283ms/step - loss: 0.3159 - accuracy: 0.8615 - val_loss: 0.3018 - val_accuracy: 0.8750\n",
      "Epoch 45/100\n",
      "65/65 [==============================] - 18s 277ms/step - loss: 0.2987 - accuracy: 0.8635 - val_loss: 0.3092 - val_accuracy: 0.8555\n",
      "Epoch 46/100\n",
      "65/65 [==============================] - 18s 279ms/step - loss: 0.3097 - accuracy: 0.8500 - val_loss: 0.2936 - val_accuracy: 0.8438\n",
      "Epoch 47/100\n",
      "65/65 [==============================] - 18s 276ms/step - loss: 0.3132 - accuracy: 0.8481 - val_loss: 0.2935 - val_accuracy: 0.8594\n",
      "Epoch 48/100\n",
      "65/65 [==============================] - 18s 278ms/step - loss: 0.3145 - accuracy: 0.8606 - val_loss: 0.3307 - val_accuracy: 0.8750\n",
      "Epoch 49/100\n",
      "65/65 [==============================] - 18s 277ms/step - loss: 0.3024 - accuracy: 0.8529 - val_loss: 0.2706 - val_accuracy: 0.9062\n",
      "Epoch 50/100\n",
      "65/65 [==============================] - 189s 3s/step - loss: 0.2977 - accuracy: 0.8558 - val_loss: 0.2938 - val_accuracy: 0.8867\n",
      "Epoch 51/100\n",
      "65/65 [==============================] - 18s 285ms/step - loss: 0.3008 - accuracy: 0.8500 - val_loss: 0.3050 - val_accuracy: 0.8867\n",
      "Training time: 1103.28435587883 seconds\n"
     ]
    }
   ],
   "source": [
    "history = model.train(epochs = 100, batch_size = 16)"
   ]
  },
  {
   "cell_type": "code",
   "execution_count": 34,
   "id": "c93949b2-148a-4acc-b3c8-e01d8512ccbc",
   "metadata": {},
   "outputs": [
    {
     "name": "stderr",
     "output_type": "stream",
     "text": [
      "100%|████████████████████████████████████████████████████████████████████████████████| 263/263 [00:11<00:00, 23.01it/s]\n"
     ]
    }
   ],
   "source": [
    "ground_truths, predictions, confusion_matrix, norm_confusion_matrix = model.test()"
   ]
  },
  {
   "cell_type": "code",
   "execution_count": 35,
   "id": "15a2cbf3-4ef0-42d7-a5f1-ab73f81d1845",
   "metadata": {},
   "outputs": [
    {
     "data": {
      "text/plain": [
       "array([[164,  13],\n",
       "       [ 15,  71]], dtype=int64)"
      ]
     },
     "execution_count": 35,
     "metadata": {},
     "output_type": "execute_result"
    }
   ],
   "source": [
    "confusion_matrix"
   ]
  },
  {
   "cell_type": "code",
   "execution_count": 36,
   "id": "1609de74-7622-4fd8-b5de-c2c4acaa5772",
   "metadata": {},
   "outputs": [
    {
     "data": {
      "text/plain": [
       "array([[0.92655367, 0.07344633],\n",
       "       [0.1744186 , 0.8255814 ]])"
      ]
     },
     "execution_count": 36,
     "metadata": {},
     "output_type": "execute_result"
    }
   ],
   "source": [
    "norm_confusion_matrix"
   ]
  },
  {
   "cell_type": "code",
   "execution_count": null,
   "id": "4f9c70ff-7690-42b7-972a-cb9a1e80465a",
   "metadata": {},
   "outputs": [],
   "source": []
  }
 ],
 "metadata": {
  "kernelspec": {
   "display_name": "tf",
   "language": "python",
   "name": "tf"
  },
  "language_info": {
   "codemirror_mode": {
    "name": "ipython",
    "version": 3
   },
   "file_extension": ".py",
   "mimetype": "text/x-python",
   "name": "python",
   "nbconvert_exporter": "python",
   "pygments_lexer": "ipython3",
   "version": "3.8.0"
  }
 },
 "nbformat": 4,
 "nbformat_minor": 5
}
